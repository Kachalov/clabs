{
 "metadata": {
  "name": "",
  "signature": "sha256:42b373a58a12c3ad165dfad182a931db78f53a1588a32ab7df226eef153ac7d6"
 },
 "nbformat": 3,
 "nbformat_minor": 0,
 "worksheets": [
  {
   "cells": [
    {
     "cell_type": "code",
     "collapsed": false,
     "input": [
      "from statistics import median\n",
      "from plotly.offline import download_plotlyjs, init_notebook_mode, plot, iplot\n",
      "import plotly.graph_objs as go\n",
      "import subprocess\n",
      "import random\n",
      "\n",
      "init_notebook_mode(connected=True)\n",
      "\n",
      "nums = 3\n",
      "\n",
      "out = []\n",
      "ideal = []\n",
      "for i in range(1, 30 + 1):\n",
      "    i *= 100\n",
      "    with open(\"test_array.txt\", \"w\") as f:\n",
      "        for num in (random.randint(-100000, 100000) for _ in range(i + 1)):\n",
      "            f.write(str(num) + \" \")\n",
      "    print(\"Sorting %d...\" % i)\n",
      "    n = []\n",
      "    for _ in range(nums):\n",
      "        n.append(int(subprocess.check_output(\"./main.exe test_array.txt test_array_result.txt\", shell=True)))\n",
      "    out.append((i, median(n)))\n",
      "    ideal.append((i, (lambda x: (7 * x)**2)(i)))\n",
      "\n",
      "print(out)\n",
      "    \n",
      "data = [\n",
      "    go.Scatter(\n",
      "        x=list(n[0] for n in out),\n",
      "        y=list(n[1] for n in out),\n",
      "        name='Real',\n",
      "        line=dict(\n",
      "            shape='spline'\n",
      "        ),\n",
      "    ),\n",
      "    go.Scatter(\n",
      "        x=list(n[0] for n in ideal),\n",
      "        y=list(n[1] for n in ideal),\n",
      "        name='O(7x^2)',\n",
      "        line=dict(\n",
      "            shape='spline'\n",
      "        ),\n",
      "    ),\n",
      "]\n",
      "fig = go.Figure(data=data)\n",
      "iplot(fig)"
     ],
     "language": "python",
     "metadata": {},
     "outputs": [
      {
       "html": [
        "<script>requirejs.config({paths: { 'plotly': ['https://cdn.plot.ly/plotly-latest.min']},});if(!window.Plotly) {{require(['plotly'],function(plotly) {window.Plotly=plotly;});}}</script>"
       ],
       "metadata": {},
       "output_type": "display_data",
       "text": [
        "<IPython.core.display.HTML at 0x7f6fcd005320>"
       ]
      },
      {
       "output_type": "stream",
       "stream": "stdout",
       "text": [
        "Sorting 100...\n",
        "Sorting 200..."
       ]
      },
      {
       "output_type": "stream",
       "stream": "stdout",
       "text": [
        "\n",
        "Sorting 300..."
       ]
      },
      {
       "output_type": "stream",
       "stream": "stdout",
       "text": [
        "\n",
        "Sorting 400..."
       ]
      },
      {
       "output_type": "stream",
       "stream": "stdout",
       "text": [
        "\n",
        "Sorting 500...\n",
        "Sorting 600...\n",
        "Sorting 700..."
       ]
      },
      {
       "output_type": "stream",
       "stream": "stdout",
       "text": [
        "\n",
        "Sorting 800...\n",
        "Sorting 900..."
       ]
      },
      {
       "output_type": "stream",
       "stream": "stdout",
       "text": [
        "\n",
        "Sorting 1000...\n",
        "Sorting 1100..."
       ]
      },
      {
       "output_type": "stream",
       "stream": "stdout",
       "text": [
        "\n",
        "Sorting 1200..."
       ]
      },
      {
       "output_type": "stream",
       "stream": "stdout",
       "text": [
        "\n",
        "Sorting 1300..."
       ]
      },
      {
       "output_type": "stream",
       "stream": "stdout",
       "text": [
        "\n",
        "Sorting 1400..."
       ]
      },
      {
       "output_type": "stream",
       "stream": "stdout",
       "text": [
        "\n",
        "Sorting 1500..."
       ]
      },
      {
       "output_type": "stream",
       "stream": "stdout",
       "text": [
        "\n",
        "Sorting 1600..."
       ]
      },
      {
       "output_type": "stream",
       "stream": "stdout",
       "text": [
        "\n",
        "Sorting 1700..."
       ]
      },
      {
       "output_type": "stream",
       "stream": "stdout",
       "text": [
        "\n",
        "Sorting 1800..."
       ]
      },
      {
       "output_type": "stream",
       "stream": "stdout",
       "text": [
        "\n",
        "Sorting 1900..."
       ]
      },
      {
       "output_type": "stream",
       "stream": "stdout",
       "text": [
        "\n",
        "Sorting 2000..."
       ]
      },
      {
       "output_type": "stream",
       "stream": "stdout",
       "text": [
        "\n",
        "Sorting 2100..."
       ]
      },
      {
       "output_type": "stream",
       "stream": "stdout",
       "text": [
        "\n",
        "Sorting 2200..."
       ]
      },
      {
       "output_type": "stream",
       "stream": "stdout",
       "text": [
        "\n",
        "Sorting 2300..."
       ]
      },
      {
       "output_type": "stream",
       "stream": "stdout",
       "text": [
        "\n",
        "Sorting 2400..."
       ]
      },
      {
       "output_type": "stream",
       "stream": "stdout",
       "text": [
        "\n",
        "Sorting 2500..."
       ]
      },
      {
       "output_type": "stream",
       "stream": "stdout",
       "text": [
        "\n",
        "Sorting 2600..."
       ]
      },
      {
       "output_type": "stream",
       "stream": "stdout",
       "text": [
        "\n",
        "Sorting 2700..."
       ]
      },
      {
       "output_type": "stream",
       "stream": "stdout",
       "text": [
        "\n",
        "Sorting 2800..."
       ]
      },
      {
       "output_type": "stream",
       "stream": "stdout",
       "text": [
        "\n",
        "Sorting 2900..."
       ]
      },
      {
       "output_type": "stream",
       "stream": "stdout",
       "text": [
        "\n",
        "Sorting 3000..."
       ]
      },
      {
       "output_type": "stream",
       "stream": "stdout",
       "text": [
        "\n",
        "[(100, 688875), (200, 2313122), (300, 4441160), (400, 7516708), (500, 12453852), (600, 19407818), (700, 24490283), (800, 29509410), (900, 35374402), (1000, 54969298), (1100, 54531276), (1200, 65223566), (1300, 76920479), (1400, 92939949), (1500, 104284865), (1600, 118064149), (1700, 131703973), (1800, 154752138), (1900, 163889528), (2000, 185051923), (2100, 203085377), (2200, 224000713), (2300, 247219569), (2400, 282620726), (2500, 374715128), (2600, 327134641), (2700, 327226174), (2800, 489287661), (2900, 399375813), (3000, 413675060)]"
       ]
      },
      {
       "output_type": "stream",
       "stream": "stdout",
       "text": [
        "\n"
       ]
      },
      {
       "application/vnd.plotly.v1+json": {
        "data": [
         {
          "line": {
           "shape": "spline"
          },
          "name": "Real",
          "type": "scatter",
          "x": [
           100,
           200,
           300,
           400,
           500,
           600,
           700,
           800,
           900,
           1000,
           1100,
           1200,
           1300,
           1400,
           1500,
           1600,
           1700,
           1800,
           1900,
           2000,
           2100,
           2200,
           2300,
           2400,
           2500,
           2600,
           2700,
           2800,
           2900,
           3000
          ],
          "y": [
           688875,
           2313122,
           4441160,
           7516708,
           12453852,
           19407818,
           24490283,
           29509410,
           35374402,
           54969298,
           54531276,
           65223566,
           76920479,
           92939949,
           104284865,
           118064149,
           131703973,
           154752138,
           163889528,
           185051923,
           203085377,
           224000713,
           247219569,
           282620726,
           374715128,
           327134641,
           327226174,
           489287661,
           399375813,
           413675060
          ]
         },
         {
          "line": {
           "shape": "spline"
          },
          "name": "O(7x^2)",
          "type": "scatter",
          "x": [
           100,
           200,
           300,
           400,
           500,
           600,
           700,
           800,
           900,
           1000,
           1100,
           1200,
           1300,
           1400,
           1500,
           1600,
           1700,
           1800,
           1900,
           2000,
           2100,
           2200,
           2300,
           2400,
           2500,
           2600,
           2700,
           2800,
           2900,
           3000
          ],
          "y": [
           490000,
           1960000,
           4410000,
           7840000,
           12250000,
           17640000,
           24010000,
           31360000,
           39690000,
           49000000,
           59290000,
           70560000,
           82810000,
           96040000,
           110250000,
           125440000,
           141610000,
           158760000,
           176890000,
           196000000,
           216090000,
           237160000,
           259210000,
           282240000,
           306250000,
           331240000,
           357210000,
           384160000,
           412090000,
           441000000
          ]
         }
        ],
        "layout": {}
       },
       "html": [
        "<div id=\"33610d21-8dee-42f9-ae7a-8105a7ad8168\" style=\"height: 525px; width: 100%;\" class=\"plotly-graph-div\"></div><script type=\"text/javascript\">require([\"plotly\"], function(Plotly) { window.PLOTLYENV=window.PLOTLYENV || {};window.PLOTLYENV.BASE_URL=\"https://plot.ly\";Plotly.newPlot(\"33610d21-8dee-42f9-ae7a-8105a7ad8168\", [{\"type\": \"scatter\", \"x\": [100, 200, 300, 400, 500, 600, 700, 800, 900, 1000, 1100, 1200, 1300, 1400, 1500, 1600, 1700, 1800, 1900, 2000, 2100, 2200, 2300, 2400, 2500, 2600, 2700, 2800, 2900, 3000], \"name\": \"Real\", \"line\": {\"shape\": \"spline\"}, \"y\": [688875, 2313122, 4441160, 7516708, 12453852, 19407818, 24490283, 29509410, 35374402, 54969298, 54531276, 65223566, 76920479, 92939949, 104284865, 118064149, 131703973, 154752138, 163889528, 185051923, 203085377, 224000713, 247219569, 282620726, 374715128, 327134641, 327226174, 489287661, 399375813, 413675060]}, {\"type\": \"scatter\", \"x\": [100, 200, 300, 400, 500, 600, 700, 800, 900, 1000, 1100, 1200, 1300, 1400, 1500, 1600, 1700, 1800, 1900, 2000, 2100, 2200, 2300, 2400, 2500, 2600, 2700, 2800, 2900, 3000], \"name\": \"O(7x^2)\", \"line\": {\"shape\": \"spline\"}, \"y\": [490000, 1960000, 4410000, 7840000, 12250000, 17640000, 24010000, 31360000, 39690000, 49000000, 59290000, 70560000, 82810000, 96040000, 110250000, 125440000, 141610000, 158760000, 176890000, 196000000, 216090000, 237160000, 259210000, 282240000, 306250000, 331240000, 357210000, 384160000, 412090000, 441000000]}], {}, {\"linkText\": \"Export to plot.ly\", \"showLink\": true})});</script>"
       ],
       "metadata": {},
       "output_type": "display_data"
      }
     ],
     "prompt_number": 57
    },
    {
     "cell_type": "code",
     "collapsed": false,
     "input": [],
     "language": "python",
     "metadata": {},
     "outputs": []
    }
   ],
   "metadata": {}
  }
 ]
}