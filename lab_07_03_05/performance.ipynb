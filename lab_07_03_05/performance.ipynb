{
 "metadata": {
  "name": "",
  "signature": "sha256:3163fdd6be97e6334af73ef4a21e519f38f273a94a6974462219cdf48c59c0d8"
 },
 "nbformat": 3,
 "nbformat_minor": 0,
 "worksheets": [
  {
   "cells": [
    {
     "cell_type": "code",
     "collapsed": false,
     "input": [
      "from plotly.offline import download_plotlyjs, init_notebook_mode, plot, iplot\n",
      "import plotly.graph_objs as go\n",
      "import subprocess\n",
      "import random\n",
      "import math as m\n",
      "\n",
      "init_notebook_mode(connected=True)\n",
      "\n",
      "out = []\n",
      "ideal = []\n",
      "qsort = []\n",
      "try:\n",
      "    d = list(range(0, 10)) + list(range(10, 100, 10)) + list(range(100, 1000, 100)) + \\\n",
      "    list(range(1000, 10000, 1000)) + list(range(10000, 50000, 10000))\n",
      "    for i in d:\n",
      "        with open(\"test_array.txt\", \"w\") as f:\n",
      "            for num in (random.randint(-100000, 100000) for _ in range(i)):\n",
      "                f.write(str(num) + \" \")\n",
      "        print(\"Sorting %d...\" % i, end=\" \")\n",
      "        res = int(subprocess.check_output(\"./main.exe test_array.txt test_array_result.txt\", shell=True))\n",
      "        out.append((i, res))\n",
      "        print(\"(ticks: %1.4e)\" % float(res))\n",
      "        \n",
      "        ideal.append((i, (lambda x: (7 * x) ** 2)(i)))\n",
      "        if i > 0:\n",
      "            qsort.append((i, (lambda x: 30 * x * m.log2(x))(i)))\n",
      "except KeyboardInterrupt:\n",
      "    pass\n",
      "    \n",
      "data = [\n",
      "    go.Scatter(\n",
      "        x=list(n[0] for n in out),\n",
      "        y=list(n[1] for n in out),\n",
      "        mode='lines+markers',\n",
      "        name='Measurement',\n",
      "        line=dict(\n",
      "            shape='spline'\n",
      "        ),\n",
      "    ),\n",
      "    go.Scatter(\n",
      "        x=list(n[0] for n in ideal),\n",
      "        y=list(n[1] for n in ideal),\n",
      "        name='Bubble',\n",
      "        line=dict(\n",
      "            shape='spline'\n",
      "        ),\n",
      "    ),\n",
      "    go.Scatter(\n",
      "        x=list(n[0] for n in qsort),\n",
      "        y=list(n[1] for n in qsort),\n",
      "        name='Qsort',\n",
      "        line=dict(\n",
      "            shape='spline'\n",
      "        ),\n",
      "    ),\n",
      "]\n",
      "\n",
      "layout = dict(\n",
      "    title = 'Sort performance',\n",
      "    xaxis = dict(title = 'Elements in array'),\n",
      "    yaxis = dict(title = 'Processor ticks'),\n",
      ")\n",
      "\n",
      "fig = go.Figure(data=data, layout=layout)\n",
      "iplot(fig)"
     ],
     "language": "python",
     "metadata": {},
     "outputs": [
      {
       "html": [
        "<script>requirejs.config({paths: { 'plotly': ['https://cdn.plot.ly/plotly-latest.min']},});if(!window.Plotly) {{require(['plotly'],function(plotly) {window.Plotly=plotly;});}}</script>"
       ],
       "metadata": {},
       "output_type": "display_data",
       "text": [
        "<IPython.core.display.HTML at 0x7f5fbd6a4d68>"
       ]
      },
      {
       "output_type": "stream",
       "stream": "stdout",
       "text": [
        "Sorting 0... (ticks: 5.0800e+02)\n",
        "Sorting 1... (ticks: 3.4500e+02)\n",
        "Sorting 2... (ticks: 2.4510e+03)\n",
        "Sorting 3..."
       ]
      },
      {
       "output_type": "stream",
       "stream": "stdout",
       "text": [
        " (ticks: 1.3050e+03)\n",
        "Sorting 4... (ticks: 6.5580e+03)\n",
        "Sorting 5..."
       ]
      },
      {
       "output_type": "stream",
       "stream": "stdout",
       "text": [
        " (ticks: 5.6720e+03)\n",
        "Sorting 6... (ticks: 5.6800e+03)\n",
        "Sorting 7... (ticks: 8.5920e+03)"
       ]
      },
      {
       "output_type": "stream",
       "stream": "stdout",
       "text": [
        "\n",
        "Sorting 8... (ticks: 1.1996e+04)\n",
        "Sorting 9... (ticks: 1.2864e+04)\n",
        "Sorting 10... (ticks: 1.5912e+04)"
       ]
      },
      {
       "output_type": "stream",
       "stream": "stdout",
       "text": [
        "\n",
        "Sorting 20... (ticks: 3.7030e+04)\n",
        "Sorting 30... (ticks: 7.8738e+04)\n",
        "Sorting 40... (ticks: 1.3182e+05)\n",
        "Sorting 50... (ticks: 2.1277e+05)\n",
        "Sorting 60... (ticks: 2.3999e+05)\n",
        "Sorting 70... (ticks: 3.5116e+05)\n",
        "Sorting 80... (ticks: 4.4661e+05)\n",
        "Sorting 90... (ticks: 5.1207e+05)\n",
        "Sorting 100... (ticks: 7.2720e+05)\n",
        "Sorting 200... (ticks: 2.8172e+06)\n",
        "Sorting 300..."
       ]
      },
      {
       "output_type": "stream",
       "stream": "stdout",
       "text": [
        " (ticks: 5.7696e+06)\n",
        "Sorting 400... (ticks: 1.0332e+07)\n",
        "Sorting 500... (ticks: 1.5489e+07)\n",
        "Sorting 600... (ticks: 2.5212e+07)\n",
        "Sorting 700..."
       ]
      },
      {
       "output_type": "stream",
       "stream": "stdout",
       "text": [
        " (ticks: 2.6374e+07)\n",
        "Sorting 800... (ticks: 3.5375e+07)\n",
        "Sorting 900... (ticks: 8.0161e+07)"
       ]
      },
      {
       "output_type": "stream",
       "stream": "stdout",
       "text": [
        "\n",
        "Sorting 1000... (ticks: 1.1561e+08)\n",
        "Sorting 2000..."
       ]
      },
      {
       "output_type": "stream",
       "stream": "stdout",
       "text": [
        " (ticks: 2.8541e+08)"
       ]
      },
      {
       "output_type": "stream",
       "stream": "stdout",
       "text": [
        "\n",
        "Sorting 3000... (ticks: 4.3835e+08)"
       ]
      },
      {
       "output_type": "stream",
       "stream": "stdout",
       "text": [
        "\n",
        "Sorting 4000... (ticks: 7.3517e+08)"
       ]
      },
      {
       "output_type": "stream",
       "stream": "stdout",
       "text": [
        "\n",
        "Sorting 5000... (ticks: 1.3207e+09)"
       ]
      },
      {
       "output_type": "stream",
       "stream": "stdout",
       "text": [
        "\n",
        "Sorting 6000... (ticks: 1.6886e+09)"
       ]
      },
      {
       "output_type": "stream",
       "stream": "stdout",
       "text": [
        "\n",
        "Sorting 7000... (ticks: 2.2208e+09)"
       ]
      },
      {
       "output_type": "stream",
       "stream": "stdout",
       "text": [
        "\n",
        "Sorting 8000... (ticks: 2.9314e+09)"
       ]
      },
      {
       "output_type": "stream",
       "stream": "stdout",
       "text": [
        "\n",
        "Sorting 9000... (ticks: 3.7362e+09)"
       ]
      },
      {
       "output_type": "stream",
       "stream": "stdout",
       "text": [
        "\n",
        "Sorting 10000... (ticks: 4.8171e+09)"
       ]
      },
      {
       "output_type": "stream",
       "stream": "stdout",
       "text": [
        "\n",
        "Sorting 20000..."
       ]
      },
      {
       "output_type": "stream",
       "stream": "stdout",
       "text": [
        " (ticks: 1.8482e+10)"
       ]
      },
      {
       "output_type": "stream",
       "stream": "stdout",
       "text": [
        "\n",
        "Sorting 30000..."
       ]
      },
      {
       "output_type": "stream",
       "stream": "stdout",
       "text": [
        " (ticks: 4.0824e+10)"
       ]
      },
      {
       "output_type": "stream",
       "stream": "stdout",
       "text": [
        "\n",
        "Sorting 40000..."
       ]
      },
      {
       "output_type": "stream",
       "stream": "stdout",
       "text": [
        " (ticks: 7.1700e+10)"
       ]
      },
      {
       "output_type": "stream",
       "stream": "stdout",
       "text": [
        "\n"
       ]
      },
      {
       "application/vnd.plotly.v1+json": {
        "data": [
         {
          "line": {
           "shape": "spline"
          },
          "mode": "lines+markers",
          "name": "Measurement",
          "type": "scatter",
          "x": [
           0,
           1,
           2,
           3,
           4,
           5,
           6,
           7,
           8,
           9,
           10,
           20,
           30,
           40,
           50,
           60,
           70,
           80,
           90,
           100,
           200,
           300,
           400,
           500,
           600,
           700,
           800,
           900,
           1000,
           2000,
           3000,
           4000,
           5000,
           6000,
           7000,
           8000,
           9000,
           10000,
           20000,
           30000,
           40000
          ],
          "y": [
           508,
           345,
           2451,
           1305,
           6558,
           5672,
           5680,
           8592,
           11996,
           12864,
           15912,
           37030,
           78738,
           131820,
           212774,
           239994,
           351162,
           446609,
           512069,
           727201,
           2817205,
           5769621,
           10331507,
           15488683,
           25211628,
           26373948,
           35374996,
           80161244,
           115614118,
           285406506,
           438345024,
           735174634,
           1320715825,
           1688625111,
           2220825515,
           2931372026,
           3736155673,
           4817059054,
           18481784081,
           40824247099,
           71700226546
          ]
         },
         {
          "line": {
           "shape": "spline"
          },
          "name": "Bubble",
          "type": "scatter",
          "x": [
           0,
           1,
           2,
           3,
           4,
           5,
           6,
           7,
           8,
           9,
           10,
           20,
           30,
           40,
           50,
           60,
           70,
           80,
           90,
           100,
           200,
           300,
           400,
           500,
           600,
           700,
           800,
           900,
           1000,
           2000,
           3000,
           4000,
           5000,
           6000,
           7000,
           8000,
           9000,
           10000,
           20000,
           30000,
           40000
          ],
          "y": [
           0,
           49,
           196,
           441,
           784,
           1225,
           1764,
           2401,
           3136,
           3969,
           4900,
           19600,
           44100,
           78400,
           122500,
           176400,
           240100,
           313600,
           396900,
           490000,
           1960000,
           4410000,
           7840000,
           12250000,
           17640000,
           24010000,
           31360000,
           39690000,
           49000000,
           196000000,
           441000000,
           784000000,
           1225000000,
           1764000000,
           2401000000,
           3136000000,
           3969000000,
           4900000000,
           19600000000,
           44100000000,
           78400000000
          ]
         },
         {
          "line": {
           "shape": "spline"
          },
          "name": "Qsort",
          "type": "scatter",
          "x": [
           1,
           2,
           3,
           4,
           5,
           6,
           7,
           8,
           9,
           10,
           20,
           30,
           40,
           50,
           60,
           70,
           80,
           90,
           100,
           200,
           300,
           400,
           500,
           600,
           700,
           800,
           900,
           1000,
           2000,
           3000,
           4000,
           5000,
           6000,
           7000,
           8000,
           9000,
           10000,
           20000,
           30000,
           40000
          ],
          "y": [
           0,
           60,
           142.64662506490404,
           240,
           348.2892142331043,
           465.2932501298081,
           589.5445336320969,
           720,
           855.8797503894243,
           996.5784284662086,
           2593.1568569324177,
           4416.201536047667,
           6386.313713864835,
           8465.784284662086,
           10632.403072095334,
           12871.49433558443,
           15172.62742772967,
           17528.003360090122,
           19931.568569324172,
           45863.137138648344,
           74059.36821446293,
           103726.2742772967,
           134486.7642699313,
           166118.73642892585,
           198475.4333484789,
           231452.5485545934,
           264972.09216286003,
           298973.5285398626,
           657947.0570797252,
           1039567.2106844919,
           1435894.1141594504,
           1843156.8569324173,
           2259134.4213689836,
           2682359.233411135,
           3111788.228318901,
           3546641.507248188,
           3986313.7138648345,
           8572627.42772967,
           13385407.392243544,
           18345254.85545934
          ]
         }
        ],
        "layout": {
         "title": "Sort performance",
         "xaxis": {
          "title": "Elements in array"
         },
         "yaxis": {
          "title": "Processor ticks"
         }
        }
       },
       "html": [
        "<div id=\"64058021-bd0f-4eca-904a-b8362ba9dc43\" style=\"height: 525px; width: 100%;\" class=\"plotly-graph-div\"></div><script type=\"text/javascript\">require([\"plotly\"], function(Plotly) { window.PLOTLYENV=window.PLOTLYENV || {};window.PLOTLYENV.BASE_URL=\"https://plot.ly\";Plotly.newPlot(\"64058021-bd0f-4eca-904a-b8362ba9dc43\", [{\"line\": {\"shape\": \"spline\"}, \"name\": \"Measurement\", \"y\": [508, 345, 2451, 1305, 6558, 5672, 5680, 8592, 11996, 12864, 15912, 37030, 78738, 131820, 212774, 239994, 351162, 446609, 512069, 727201, 2817205, 5769621, 10331507, 15488683, 25211628, 26373948, 35374996, 80161244, 115614118, 285406506, 438345024, 735174634, 1320715825, 1688625111, 2220825515, 2931372026, 3736155673, 4817059054, 18481784081, 40824247099, 71700226546], \"type\": \"scatter\", \"x\": [0, 1, 2, 3, 4, 5, 6, 7, 8, 9, 10, 20, 30, 40, 50, 60, 70, 80, 90, 100, 200, 300, 400, 500, 600, 700, 800, 900, 1000, 2000, 3000, 4000, 5000, 6000, 7000, 8000, 9000, 10000, 20000, 30000, 40000], \"mode\": \"lines+markers\"}, {\"type\": \"scatter\", \"name\": \"Bubble\", \"y\": [0, 49, 196, 441, 784, 1225, 1764, 2401, 3136, 3969, 4900, 19600, 44100, 78400, 122500, 176400, 240100, 313600, 396900, 490000, 1960000, 4410000, 7840000, 12250000, 17640000, 24010000, 31360000, 39690000, 49000000, 196000000, 441000000, 784000000, 1225000000, 1764000000, 2401000000, 3136000000, 3969000000, 4900000000, 19600000000, 44100000000, 78400000000], \"x\": [0, 1, 2, 3, 4, 5, 6, 7, 8, 9, 10, 20, 30, 40, 50, 60, 70, 80, 90, 100, 200, 300, 400, 500, 600, 700, 800, 900, 1000, 2000, 3000, 4000, 5000, 6000, 7000, 8000, 9000, 10000, 20000, 30000, 40000], \"line\": {\"shape\": \"spline\"}}, {\"type\": \"scatter\", \"name\": \"Qsort\", \"y\": [0.0, 60.0, 142.64662506490404, 240.0, 348.2892142331043, 465.2932501298081, 589.5445336320969, 720.0, 855.8797503894243, 996.5784284662086, 2593.1568569324177, 4416.201536047667, 6386.313713864835, 8465.784284662086, 10632.403072095334, 12871.49433558443, 15172.62742772967, 17528.003360090122, 19931.568569324172, 45863.137138648344, 74059.36821446293, 103726.2742772967, 134486.7642699313, 166118.73642892585, 198475.4333484789, 231452.5485545934, 264972.09216286003, 298973.5285398626, 657947.0570797252, 1039567.2106844919, 1435894.1141594504, 1843156.8569324173, 2259134.4213689836, 2682359.233411135, 3111788.228318901, 3546641.507248188, 3986313.7138648345, 8572627.42772967, 13385407.392243544, 18345254.85545934], \"x\": [1, 2, 3, 4, 5, 6, 7, 8, 9, 10, 20, 30, 40, 50, 60, 70, 80, 90, 100, 200, 300, 400, 500, 600, 700, 800, 900, 1000, 2000, 3000, 4000, 5000, 6000, 7000, 8000, 9000, 10000, 20000, 30000, 40000], \"line\": {\"shape\": \"spline\"}}], {\"title\": \"Sort performance\", \"xaxis\": {\"title\": \"Elements in array\"}, \"yaxis\": {\"title\": \"Processor ticks\"}}, {\"showLink\": true, \"linkText\": \"Export to plot.ly\"})});</script>"
       ],
       "metadata": {},
       "output_type": "display_data"
      }
     ],
     "prompt_number": 56
    },
    {
     "cell_type": "code",
     "collapsed": false,
     "input": [],
     "language": "python",
     "metadata": {},
     "outputs": []
    }
   ],
   "metadata": {}
  }
 ]
}