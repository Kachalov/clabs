{
 "metadata": {
  "name": "",
  "signature": "sha256:2ce2231f569d49bb64123dbdba5601f43542d58398acde416acae9ca0c0d29c8"
 },
 "nbformat": 3,
 "nbformat_minor": 0,
 "worksheets": [
  {
   "cells": [
    {
     "cell_type": "code",
     "collapsed": false,
     "input": [
      "from plotly.offline import download_plotlyjs, init_notebook_mode, plot, iplot\n",
      "import plotly.graph_objs as go\n",
      "import subprocess\n",
      "import random\n",
      "import math as m\n",
      "\n",
      "init_notebook_mode(connected=True)\n",
      "\n",
      "out = []\n",
      "ideal = []\n",
      "qsort = []\n",
      "try:\n",
      "    d = list(range(0, 10))[1:] + list(range(10, 100, 10)) + list(range(100, 1000, 100)) + list(range(1000, 10000, 1000))\n",
      "    for i in d:\n",
      "        with open(\"test_array.txt\", \"w\") as f:\n",
      "            for num in (random.randint(-100000, 100000) for _ in range(i + 1)):\n",
      "                f.write(str(num) + \" \")\n",
      "        print(\"Sorting %d...\" % i, end=\" \")\n",
      "        res = int(subprocess.check_output(\"./main.exe test_array.txt test_array_result.txt\", shell=True))\n",
      "        out.append((i, res))\n",
      "        print(\"(ticks: %1.4e)\" % float(res))\n",
      "        \n",
      "        ideal.append((i, (lambda x: (7 * x) ** 2)(i)))\n",
      "        qsort.append((i, (lambda x: 30 * x * m.log2(x))(i)))\n",
      "except KeyboardInterrupt:\n",
      "    pass\n",
      "    \n",
      "data = [\n",
      "    go.Scatter(\n",
      "        x=list(n[0] for n in out),\n",
      "        y=list(n[1] for n in out),\n",
      "        mode='lines+markers',\n",
      "        name='Measurement',\n",
      "        line=dict(\n",
      "            shape='spline'\n",
      "        ),\n",
      "    ),\n",
      "    go.Scatter(\n",
      "        x=list(n[0] for n in ideal),\n",
      "        y=list(n[1] for n in ideal),\n",
      "        name='Bubble',\n",
      "        line=dict(\n",
      "            shape='spline'\n",
      "        ),\n",
      "    ),\n",
      "    go.Scatter(\n",
      "        x=list(n[0] for n in qsort),\n",
      "        y=list(n[1] for n in qsort),\n",
      "        name='Qsort',\n",
      "        line=dict(\n",
      "            shape='spline'\n",
      "        ),\n",
      "    ),\n",
      "]\n",
      "\n",
      "layout = dict(\n",
      "    title = 'Sort performance',\n",
      "    xaxis = dict(title = 'Elements in array'),\n",
      "    yaxis = dict(title = 'Processor ticks'),\n",
      ")\n",
      "\n",
      "fig = go.Figure(data=data, layout=layout)\n",
      "iplot(fig)"
     ],
     "language": "python",
     "metadata": {},
     "outputs": [
      {
       "html": [
        "<script>requirejs.config({paths: { 'plotly': ['https://cdn.plot.ly/plotly-latest.min']},});if(!window.Plotly) {{require(['plotly'],function(plotly) {window.Plotly=plotly;});}}</script>"
       ],
       "metadata": {},
       "output_type": "display_data",
       "text": [
        "<IPython.core.display.HTML at 0x7f5fbd6fff28>"
       ]
      },
      {
       "output_type": "stream",
       "stream": "stdout",
       "text": [
        "Sorting 1... (ticks: 5.0000e+02)\n",
        "Sorting 2... (ticks: 1.1200e+03)\n",
        "Sorting 3... (ticks: 5.3840e+03)"
       ]
      },
      {
       "output_type": "stream",
       "stream": "stdout",
       "text": [
        "\n",
        "Sorting 4... (ticks: 4.4910e+03)"
       ]
      },
      {
       "output_type": "stream",
       "stream": "stdout",
       "text": [
        "\n",
        "Sorting 5... (ticks: 4.7600e+03)\n",
        "Sorting 6..."
       ]
      },
      {
       "output_type": "stream",
       "stream": "stdout",
       "text": [
        " (ticks: 7.4800e+03)\n",
        "Sorting 7... (ticks: 6.9840e+03)\n",
        "Sorting 8... (ticks: 7.6070e+03)\n",
        "Sorting 9... (ticks: 1.4800e+04)"
       ]
      },
      {
       "output_type": "stream",
       "stream": "stdout",
       "text": [
        "\n",
        "Sorting 10... (ticks: 2.1080e+04)\n",
        "Sorting 20... (ticks: 4.3112e+04)\n",
        "Sorting 30... (ticks: 7.6864e+04)\n",
        "Sorting 40... (ticks: 1.6137e+05)"
       ]
      },
      {
       "output_type": "stream",
       "stream": "stdout",
       "text": [
        "\n",
        "Sorting 50... (ticks: 1.2850e+05)\n",
        "Sorting 60... (ticks: 1.9967e+05)\n",
        "Sorting 70... (ticks: 4.5744e+05)\n",
        "Sorting 80... (ticks: 3.3246e+05)\n",
        "Sorting 90... (ticks: 3.6339e+05)\n",
        "Sorting 100... (ticks: 4.7652e+05)\n",
        "Sorting 200... (ticks: 1.9687e+06)\n",
        "Sorting 300... (ticks: 6.1570e+06)\n",
        "Sorting 400... (ticks: 8.8187e+06)\n",
        "Sorting 500... (ticks: 1.2141e+07)"
       ]
      },
      {
       "output_type": "stream",
       "stream": "stdout",
       "text": [
        "\n",
        "Sorting 600... (ticks: 1.6872e+07)\n",
        "Sorting 700... (ticks: 2.2746e+07)\n",
        "Sorting 800... (ticks: 3.0613e+07)\n",
        "Sorting 900... (ticks: 4.3760e+07)"
       ]
      },
      {
       "output_type": "stream",
       "stream": "stdout",
       "text": [
        "\n",
        "Sorting 1000... (ticks: 4.6581e+07)\n",
        "Sorting 2000... (ticks: 1.7705e+08)"
       ]
      },
      {
       "output_type": "stream",
       "stream": "stdout",
       "text": [
        "\n",
        "Sorting 3000... (ticks: 4.1657e+08)"
       ]
      },
      {
       "output_type": "stream",
       "stream": "stdout",
       "text": [
        "\n",
        "Sorting 4000... (ticks: 7.2594e+08)"
       ]
      },
      {
       "output_type": "stream",
       "stream": "stdout",
       "text": [
        "\n",
        "Sorting 5000... (ticks: 1.1588e+09)"
       ]
      },
      {
       "output_type": "stream",
       "stream": "stdout",
       "text": [
        "\n",
        "Sorting 6000... (ticks: 1.6955e+09)"
       ]
      },
      {
       "output_type": "stream",
       "stream": "stdout",
       "text": [
        "\n",
        "Sorting 7000... (ticks: 2.2350e+09)"
       ]
      },
      {
       "output_type": "stream",
       "stream": "stdout",
       "text": [
        "\n",
        "Sorting 8000... (ticks: 2.9897e+09)"
       ]
      },
      {
       "output_type": "stream",
       "stream": "stdout",
       "text": [
        "\n",
        "Sorting 9000... (ticks: 3.7431e+09)"
       ]
      },
      {
       "output_type": "stream",
       "stream": "stdout",
       "text": [
        "\n"
       ]
      },
      {
       "application/vnd.plotly.v1+json": {
        "data": [
         {
          "line": {
           "shape": "spline"
          },
          "mode": "lines+markers",
          "name": "Measurement",
          "type": "scatter",
          "x": [
           1,
           2,
           3,
           4,
           5,
           6,
           7,
           8,
           9,
           10,
           20,
           30,
           40,
           50,
           60,
           70,
           80,
           90,
           100,
           200,
           300,
           400,
           500,
           600,
           700,
           800,
           900,
           1000,
           2000,
           3000,
           4000,
           5000,
           6000,
           7000,
           8000,
           9000
          ],
          "y": [
           500,
           1120,
           5384,
           4491,
           4760,
           7480,
           6984,
           7607,
           14800,
           21080,
           43112,
           76864,
           161372,
           128504,
           199668,
           457440,
           332464,
           363388,
           476516,
           1968656,
           6156998,
           8818732,
           12140596,
           16871556,
           22746465,
           30613080,
           43760247,
           46580516,
           177053825,
           416571601,
           725942121,
           1158809877,
           1695485487,
           2235049065,
           2989693802,
           3743145549
          ]
         },
         {
          "line": {
           "shape": "spline"
          },
          "name": "Bubble",
          "type": "scatter",
          "x": [
           1,
           2,
           3,
           4,
           5,
           6,
           7,
           8,
           9,
           10,
           20,
           30,
           40,
           50,
           60,
           70,
           80,
           90,
           100,
           200,
           300,
           400,
           500,
           600,
           700,
           800,
           900,
           1000,
           2000,
           3000,
           4000,
           5000,
           6000,
           7000,
           8000,
           9000
          ],
          "y": [
           49,
           196,
           441,
           784,
           1225,
           1764,
           2401,
           3136,
           3969,
           4900,
           19600,
           44100,
           78400,
           122500,
           176400,
           240100,
           313600,
           396900,
           490000,
           1960000,
           4410000,
           7840000,
           12250000,
           17640000,
           24010000,
           31360000,
           39690000,
           49000000,
           196000000,
           441000000,
           784000000,
           1225000000,
           1764000000,
           2401000000,
           3136000000,
           3969000000
          ]
         },
         {
          "line": {
           "shape": "spline"
          },
          "name": "Qsort",
          "type": "scatter",
          "x": [
           1,
           2,
           3,
           4,
           5,
           6,
           7,
           8,
           9,
           10,
           20,
           30,
           40,
           50,
           60,
           70,
           80,
           90,
           100,
           200,
           300,
           400,
           500,
           600,
           700,
           800,
           900,
           1000,
           2000,
           3000,
           4000,
           5000,
           6000,
           7000,
           8000,
           9000
          ],
          "y": [
           0,
           60,
           142.64662506490404,
           240,
           348.2892142331043,
           465.2932501298081,
           589.5445336320969,
           720,
           855.8797503894243,
           996.5784284662086,
           2593.1568569324177,
           4416.201536047667,
           6386.313713864835,
           8465.784284662086,
           10632.403072095334,
           12871.49433558443,
           15172.62742772967,
           17528.003360090122,
           19931.568569324172,
           45863.137138648344,
           74059.36821446293,
           103726.2742772967,
           134486.7642699313,
           166118.73642892585,
           198475.4333484789,
           231452.5485545934,
           264972.09216286003,
           298973.5285398626,
           657947.0570797252,
           1039567.2106844919,
           1435894.1141594504,
           1843156.8569324173,
           2259134.4213689836,
           2682359.233411135,
           3111788.228318901,
           3546641.507248188
          ]
         }
        ],
        "layout": {
         "title": "Sort performance",
         "xaxis": {
          "title": "Elements in array"
         },
         "yaxis": {
          "title": "Processor ticks"
         }
        }
       },
       "html": [
        "<div id=\"1c2f8b4d-2b38-4baf-8d2a-5dc39f12f0e7\" style=\"height: 525px; width: 100%;\" class=\"plotly-graph-div\"></div><script type=\"text/javascript\">require([\"plotly\"], function(Plotly) { window.PLOTLYENV=window.PLOTLYENV || {};window.PLOTLYENV.BASE_URL=\"https://plot.ly\";Plotly.newPlot(\"1c2f8b4d-2b38-4baf-8d2a-5dc39f12f0e7\", [{\"line\": {\"shape\": \"spline\"}, \"name\": \"Measurement\", \"y\": [500, 1120, 5384, 4491, 4760, 7480, 6984, 7607, 14800, 21080, 43112, 76864, 161372, 128504, 199668, 457440, 332464, 363388, 476516, 1968656, 6156998, 8818732, 12140596, 16871556, 22746465, 30613080, 43760247, 46580516, 177053825, 416571601, 725942121, 1158809877, 1695485487, 2235049065, 2989693802, 3743145549], \"type\": \"scatter\", \"x\": [1, 2, 3, 4, 5, 6, 7, 8, 9, 10, 20, 30, 40, 50, 60, 70, 80, 90, 100, 200, 300, 400, 500, 600, 700, 800, 900, 1000, 2000, 3000, 4000, 5000, 6000, 7000, 8000, 9000], \"mode\": \"lines+markers\"}, {\"type\": \"scatter\", \"name\": \"Bubble\", \"y\": [49, 196, 441, 784, 1225, 1764, 2401, 3136, 3969, 4900, 19600, 44100, 78400, 122500, 176400, 240100, 313600, 396900, 490000, 1960000, 4410000, 7840000, 12250000, 17640000, 24010000, 31360000, 39690000, 49000000, 196000000, 441000000, 784000000, 1225000000, 1764000000, 2401000000, 3136000000, 3969000000], \"x\": [1, 2, 3, 4, 5, 6, 7, 8, 9, 10, 20, 30, 40, 50, 60, 70, 80, 90, 100, 200, 300, 400, 500, 600, 700, 800, 900, 1000, 2000, 3000, 4000, 5000, 6000, 7000, 8000, 9000], \"line\": {\"shape\": \"spline\"}}, {\"type\": \"scatter\", \"name\": \"Qsort\", \"y\": [0.0, 60.0, 142.64662506490404, 240.0, 348.2892142331043, 465.2932501298081, 589.5445336320969, 720.0, 855.8797503894243, 996.5784284662086, 2593.1568569324177, 4416.201536047667, 6386.313713864835, 8465.784284662086, 10632.403072095334, 12871.49433558443, 15172.62742772967, 17528.003360090122, 19931.568569324172, 45863.137138648344, 74059.36821446293, 103726.2742772967, 134486.7642699313, 166118.73642892585, 198475.4333484789, 231452.5485545934, 264972.09216286003, 298973.5285398626, 657947.0570797252, 1039567.2106844919, 1435894.1141594504, 1843156.8569324173, 2259134.4213689836, 2682359.233411135, 3111788.228318901, 3546641.507248188], \"x\": [1, 2, 3, 4, 5, 6, 7, 8, 9, 10, 20, 30, 40, 50, 60, 70, 80, 90, 100, 200, 300, 400, 500, 600, 700, 800, 900, 1000, 2000, 3000, 4000, 5000, 6000, 7000, 8000, 9000], \"line\": {\"shape\": \"spline\"}}], {\"title\": \"Sort performance\", \"xaxis\": {\"title\": \"Elements in array\"}, \"yaxis\": {\"title\": \"Processor ticks\"}}, {\"showLink\": true, \"linkText\": \"Export to plot.ly\"})});</script>"
       ],
       "metadata": {},
       "output_type": "display_data"
      }
     ],
     "prompt_number": 52
    },
    {
     "cell_type": "code",
     "collapsed": false,
     "input": [],
     "language": "python",
     "metadata": {},
     "outputs": []
    }
   ],
   "metadata": {}
  }
 ]
}